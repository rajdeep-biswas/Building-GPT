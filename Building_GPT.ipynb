{
  "nbformat": 4,
  "nbformat_minor": 0,
  "metadata": {
    "colab": {
      "provenance": [],
      "authorship_tag": "ABX9TyMCQwaR7QBRzak/AeOtSO2G",
      "include_colab_link": true
    },
    "kernelspec": {
      "name": "python3",
      "display_name": "Python 3"
    },
    "language_info": {
      "name": "python"
    }
  },
  "cells": [
    {
      "cell_type": "markdown",
      "metadata": {
        "id": "view-in-github",
        "colab_type": "text"
      },
      "source": [
        "<a href=\"https://colab.research.google.com/github/rajdeep-biswas/Building-GPT/blob/master/Building_GPT.ipynb\" target=\"_parent\"><img src=\"https://colab.research.google.com/assets/colab-badge.svg\" alt=\"Open In Colab\"/></a>"
      ]
    },
    {
      "cell_type": "markdown",
      "source": [
        "I started with [Let's build GPT: from scratch, in code, spelled out](https://www.youtube.com/watch?v=kCc8FmEb1nY), but apparently he has just used character level tokenization (ASCII) and the language model also predicts that way.  \n",
        "\n",
        "Since I want to replicate a more token-level model, I will be following [Let's build the GPT Tokenizer](https://www.youtube.com/watch?v=zduSFxRajkE) first."
      ],
      "metadata": {
        "id": "ZAwTErEaTPpR"
      }
    },
    {
      "cell_type": "markdown",
      "source": [
        "# Tokenization"
      ],
      "metadata": {
        "id": "fjTNENc8fa-h"
      }
    },
    {
      "cell_type": "markdown",
      "source": [
        "Tokens vocabularies are constructed not at character level but at \"chunk level\". And these are constructed using [Byte pair encoding](https://en.wikipedia.org/wiki/Byte_pair_encoding) algorithm.\n",
        "\n",
        "[Language Models are Unsupervised Multitask Learners](https://cdn.openai.com/better-language-models/language_models_are_unsupervised_multitask_learners.pdf) is the \"GPT2 paper\" that introduced this algorithm.\n",
        "\n",
        "Interesting notes about [GPT2 tokens](https://tiktokenizer.vercel.app/?model=gpt2) -\n",
        "* \"the\" and \" the\" (whitespaced) etc. are counted as different tokens.\n",
        "* \"Egg\" at the beginning of a sentence is two tokens \"E\" + \"gg\", but in a different sentence it is a single token \" Egg\"."
      ],
      "metadata": {
        "id": "CBqln7JSV0Xc"
      }
    },
    {
      "cell_type": "code",
      "execution_count": null,
      "metadata": {
        "id": "pcNUYAOePscS"
      },
      "outputs": [],
      "source": []
    }
  ]
}